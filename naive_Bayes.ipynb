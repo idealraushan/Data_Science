{
 "cells": [
  {
   "cell_type": "markdown",
   "id": "0702becb",
   "metadata": {},
   "source": [
    "## :- Program to design a Naive Bayes model."
   ]
  },
  {
   "cell_type": "markdown",
   "id": "c605d791",
   "metadata": {},
   "source": [
    "####   According to given condition football is played or not "
   ]
  },
  {
   "cell_type": "code",
   "execution_count": 1,
   "id": "c447bb2a",
   "metadata": {},
   "outputs": [],
   "source": [
    "# importing libraries\n",
    "\n",
    "import numpy as np\n",
    "import pandas as pd\n",
    "from sklearn.naive_bayes import GaussianNB"
   ]
  },
  {
   "cell_type": "markdown",
   "id": "0514c509",
   "metadata": {},
   "source": [
    "## :- Import and visualize the dataset"
   ]
  },
  {
   "cell_type": "code",
   "execution_count": 2,
   "id": "8bd1eee8",
   "metadata": {},
   "outputs": [
    {
     "name": "stdout",
     "output_type": "stream",
     "text": [
      "     outlook  temp humidity  windy play\n",
      "0      sunny   hot     high  False   no\n",
      "1      sunny   hot     high   True   no\n",
      "2   overcast   hot     high  False  yes\n",
      "3      rainy  mild     high  False  yes\n",
      "4      rainy  cool   normal  False  yes\n",
      "5      rainy  cool   normal   True   no\n",
      "6   overcast  cool   normal   True  yes\n",
      "7      sunny  mild     high  False   no\n",
      "8      sunny  cool   normal  False  yes\n",
      "9      rainy  mild   normal  False  yes\n",
      "10     sunny  mild   normal   True  yes\n",
      "11  overcast  mild     high   True  yes\n",
      "12  overcast   hot   normal  False  yes\n",
      "13     rainy  mild     high   True   no\n"
     ]
    }
   ],
   "source": [
    "# import dataset\n",
    "\n",
    "dataset = pd.read_csv(r\"C:\\Users\\hp\\Desktop\\kaggle\\Football_dataset.csv\")\n",
    "print(dataset)"
   ]
  },
  {
   "cell_type": "code",
   "execution_count": 4,
   "id": "49b414ef",
   "metadata": {},
   "outputs": [
    {
     "data": {
      "text/plain": [
       "(14, 5)"
      ]
     },
     "execution_count": 4,
     "metadata": {},
     "output_type": "execute_result"
    }
   ],
   "source": [
    "dataset.shape"
   ]
  },
  {
   "cell_type": "code",
   "execution_count": 5,
   "id": "6116feec",
   "metadata": {},
   "outputs": [
    {
     "name": "stdout",
     "output_type": "stream",
     "text": [
      "<class 'pandas.core.frame.DataFrame'>\n",
      "RangeIndex: 14 entries, 0 to 13\n",
      "Data columns (total 5 columns):\n",
      " #   Column    Non-Null Count  Dtype \n",
      "---  ------    --------------  ----- \n",
      " 0   outlook   14 non-null     object\n",
      " 1   temp      14 non-null     object\n",
      " 2   humidity  14 non-null     object\n",
      " 3   windy     14 non-null     bool  \n",
      " 4   play      14 non-null     object\n",
      "dtypes: bool(1), object(4)\n",
      "memory usage: 590.0+ bytes\n"
     ]
    }
   ],
   "source": [
    "dataset.info()"
   ]
  },
  {
   "cell_type": "code",
   "execution_count": 6,
   "id": "c2f52705",
   "metadata": {},
   "outputs": [
    {
     "data": {
      "text/plain": [
       "Index(['outlook', 'temp', 'humidity', 'windy', 'play'], dtype='object')"
      ]
     },
     "execution_count": 6,
     "metadata": {},
     "output_type": "execute_result"
    }
   ],
   "source": [
    "dataset.columns"
   ]
  },
  {
   "cell_type": "code",
   "execution_count": 7,
   "id": "b87e643b",
   "metadata": {},
   "outputs": [
    {
     "name": "stdout",
     "output_type": "stream",
     "text": [
      "<class 'pandas.core.frame.DataFrame'>\n",
      "RangeIndex: 14 entries, 0 to 13\n",
      "Data columns (total 9 columns):\n",
      " #   Column            Non-Null Count  Dtype\n",
      "---  ------            --------------  -----\n",
      " 0   windy             14 non-null     bool \n",
      " 1   outlook_overcast  14 non-null     uint8\n",
      " 2   outlook_rainy     14 non-null     uint8\n",
      " 3   outlook_sunny     14 non-null     uint8\n",
      " 4   temp_cool         14 non-null     uint8\n",
      " 5   temp_hot          14 non-null     uint8\n",
      " 6   temp_mild         14 non-null     uint8\n",
      " 7   humidity_high     14 non-null     uint8\n",
      " 8   humidity_normal   14 non-null     uint8\n",
      "dtypes: bool(1), uint8(8)\n",
      "memory usage: 254.0 bytes\n",
      "None\n"
     ]
    }
   ],
   "source": [
    "X_train = pd.get_dummies(dataset[['outlook', 'temp', 'humidity', 'windy']])\n",
    "y_train = pd.DataFrame(dataset['play'])\n",
    "print(X_train.info())"
   ]
  },
  {
   "cell_type": "code",
   "execution_count": 9,
   "id": "74226e03",
   "metadata": {},
   "outputs": [
    {
     "data": {
      "text/plain": [
       "<bound method DataFrame.info of     windy  outlook_overcast  outlook_rainy  outlook_sunny  temp_cool  \\\n",
       "0   False                 0              0              1          0   \n",
       "1    True                 0              0              1          0   \n",
       "2   False                 1              0              0          0   \n",
       "3   False                 0              1              0          0   \n",
       "4   False                 0              1              0          1   \n",
       "5    True                 0              1              0          1   \n",
       "6    True                 1              0              0          1   \n",
       "7   False                 0              0              1          0   \n",
       "8   False                 0              0              1          1   \n",
       "9   False                 0              1              0          0   \n",
       "10   True                 0              0              1          0   \n",
       "11   True                 1              0              0          0   \n",
       "12  False                 1              0              0          0   \n",
       "13   True                 0              1              0          0   \n",
       "\n",
       "    temp_hot  temp_mild  humidity_high  humidity_normal  \n",
       "0          1          0              1                0  \n",
       "1          1          0              1                0  \n",
       "2          1          0              1                0  \n",
       "3          0          1              1                0  \n",
       "4          0          0              0                1  \n",
       "5          0          0              0                1  \n",
       "6          0          0              0                1  \n",
       "7          0          1              1                0  \n",
       "8          0          0              0                1  \n",
       "9          0          1              0                1  \n",
       "10         0          1              0                1  \n",
       "11         0          1              1                0  \n",
       "12         1          0              0                1  \n",
       "13         0          1              1                0  >"
      ]
     },
     "execution_count": 9,
     "metadata": {},
     "output_type": "execute_result"
    }
   ],
   "source": [
    "X_train.info"
   ]
  },
  {
   "cell_type": "code",
   "execution_count": 13,
   "id": "7a43dafa",
   "metadata": {},
   "outputs": [
    {
     "name": "stdout",
     "output_type": "stream",
     "text": [
      "['yes']\n"
     ]
    },
    {
     "name": "stderr",
     "output_type": "stream",
     "text": [
      "C:\\Users\\hp\\anaconda3\\lib\\site-packages\\sklearn\\utils\\validation.py:993: DataConversionWarning: A column-vector y was passed when a 1d array was expected. Please change the shape of y to (n_samples, ), for example using ravel().\n",
      "  y = column_or_1d(y, warn=True)\n",
      "C:\\Users\\hp\\anaconda3\\lib\\site-packages\\sklearn\\base.py:450: UserWarning: X does not have valid feature names, but GaussianNB was fitted with feature names\n",
      "  warnings.warn(\n"
     ]
    }
   ],
   "source": [
    "# Gaussian classifier\n",
    "\n",
    "model = GaussianNB()\n",
    "\n",
    "# Train the Model and predict output\n",
    "\n",
    "model.fit(X_train, y_train)\n",
    "predicted= model.predict([[False,1,0,0,0,1,0,1,0]])\n",
    "print (predicted)"
   ]
  },
  {
   "cell_type": "markdown",
   "id": "b3845146",
   "metadata": {},
   "source": [
    "## --------- THANK YOU---------"
   ]
  }
 ],
 "metadata": {
  "kernelspec": {
   "display_name": "Python 3 (ipykernel)",
   "language": "python",
   "name": "python3"
  },
  "language_info": {
   "codemirror_mode": {
    "name": "ipython",
    "version": 3
   },
   "file_extension": ".py",
   "mimetype": "text/x-python",
   "name": "python",
   "nbconvert_exporter": "python",
   "pygments_lexer": "ipython3",
   "version": "3.9.12"
  }
 },
 "nbformat": 4,
 "nbformat_minor": 5
}
