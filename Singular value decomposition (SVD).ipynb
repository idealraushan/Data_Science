{
 "cells": [
  {
   "cell_type": "markdown",
   "id": "22e3ac92",
   "metadata": {},
   "source": [
    "## :- Compute the eigenvalues and eigenvectors singular value of a time series data  set."
   ]
  },
  {
   "cell_type": "code",
   "execution_count": 2,
   "id": "91aa5d26",
   "metadata": {},
   "outputs": [],
   "source": [
    "# importing libraries\n",
    "\n",
    "import numpy as np\n",
    "import pandas as pd"
   ]
  },
  {
   "cell_type": "code",
   "execution_count": 4,
   "id": "9ceaeca3",
   "metadata": {},
   "outputs": [
    {
     "name": "stdout",
     "output_type": "stream",
     "text": [
      "    Hours  Scores\n",
      "0     2.5      21\n",
      "1     5.1      47\n",
      "2     3.2      27\n",
      "3     8.5      75\n",
      "4     3.5      30\n",
      "5     1.5      20\n",
      "6     9.2      88\n",
      "7     5.5      60\n",
      "8     8.3      81\n",
      "9     2.7      25\n",
      "10    7.7      85\n",
      "11    5.9      62\n",
      "12    4.5      41\n",
      "13    3.3      42\n",
      "14    1.1      17\n",
      "15    8.9      95\n",
      "16    2.5      30\n",
      "17    1.9      24\n",
      "18    6.1      67\n",
      "19    7.4      69\n",
      "20    2.7      30\n",
      "21    4.8      54\n",
      "22    3.8      35\n",
      "23    6.9      76\n",
      "24    7.8      86\n"
     ]
    }
   ],
   "source": [
    "# import dataset and visualize data\n",
    "\n",
    "df = pd.read_csv(r\"C:\\Users\\hp\\Desktop\\kaggle\\student_scores.csv\")\n",
    "print(df)"
   ]
  },
  {
   "cell_type": "code",
   "execution_count": 5,
   "id": "21e68dd3",
   "metadata": {},
   "outputs": [
    {
     "data": {
      "text/plain": [
       "(25, 2)"
      ]
     },
     "execution_count": 5,
     "metadata": {},
     "output_type": "execute_result"
    }
   ],
   "source": [
    "df.shape"
   ]
  },
  {
   "cell_type": "code",
   "execution_count": 6,
   "id": "266e3158",
   "metadata": {},
   "outputs": [
    {
     "name": "stdout",
     "output_type": "stream",
     "text": [
      "    Hours  Scores\n",
      "10    7.7      85\n",
      "11    5.9      62\n",
      "12    4.5      41\n",
      "13    3.3      42\n",
      "14    1.1      17\n",
      "15    8.9      95\n",
      "16    2.5      30\n",
      "17    1.9      24\n",
      "18    6.1      67\n",
      "19    7.4      69\n",
      "20    2.7      30\n",
      "21    4.8      54\n",
      "22    3.8      35\n",
      "23    6.9      76\n",
      "24    7.8      86\n"
     ]
    }
   ],
   "source": [
    "Dataset = df.tail(15)\n",
    "print(Dataset)"
   ]
  },
  {
   "cell_type": "code",
   "execution_count": 7,
   "id": "068adb6e",
   "metadata": {},
   "outputs": [
    {
     "data": {
      "text/plain": [
       "(15, 2)"
      ]
     },
     "execution_count": 7,
     "metadata": {},
     "output_type": "execute_result"
    }
   ],
   "source": [
    "Dataset.shape"
   ]
  },
  {
   "cell_type": "code",
   "execution_count": 8,
   "id": "4e4b84ba",
   "metadata": {},
   "outputs": [
    {
     "data": {
      "text/plain": [
       "array([[ 7.7, 85. ],\n",
       "       [ 5.9, 62. ],\n",
       "       [ 4.5, 41. ],\n",
       "       [ 3.3, 42. ],\n",
       "       [ 1.1, 17. ],\n",
       "       [ 8.9, 95. ],\n",
       "       [ 2.5, 30. ],\n",
       "       [ 1.9, 24. ],\n",
       "       [ 6.1, 67. ],\n",
       "       [ 7.4, 69. ],\n",
       "       [ 2.7, 30. ],\n",
       "       [ 4.8, 54. ],\n",
       "       [ 3.8, 35. ],\n",
       "       [ 6.9, 76. ],\n",
       "       [ 7.8, 86. ]])"
      ]
     },
     "execution_count": 8,
     "metadata": {},
     "output_type": "execute_result"
    }
   ],
   "source": [
    "Matrix = np.array(Dataset) \n",
    "Matrix"
   ]
  },
  {
   "cell_type": "code",
   "execution_count": 9,
   "id": "5aa263e8",
   "metadata": {},
   "outputs": [
    {
     "data": {
      "text/plain": [
       "array([[ 7.7,  5.9,  4.5,  3.3,  1.1,  8.9,  2.5,  1.9,  6.1,  7.4,  2.7,\n",
       "         4.8,  3.8,  6.9,  7.8],\n",
       "       [85. , 62. , 41. , 42. , 17. , 95. , 30. , 24. , 67. , 69. , 30. ,\n",
       "        54. , 35. , 76. , 86. ]])"
      ]
     },
     "execution_count": 9,
     "metadata": {},
     "output_type": "execute_result"
    }
   ],
   "source": [
    "Trans = Matrix.transpose()\n",
    "Trans"
   ]
  },
  {
   "cell_type": "code",
   "execution_count": 10,
   "id": "38f1e18f",
   "metadata": {},
   "outputs": [
    {
     "data": {
      "text/plain": [
       "array([[  460.71,  4915.9 ],\n",
       "       [ 4915.9 , 52767.  ]])"
      ]
     },
     "execution_count": 10,
     "metadata": {},
     "output_type": "execute_result"
    }
   ],
   "source": [
    "New_Matrix = Trans@Matrix\n",
    "New_Matrix"
   ]
  },
  {
   "cell_type": "code",
   "execution_count": 11,
   "id": "25902988",
   "metadata": {},
   "outputs": [
    {
     "name": "stdout",
     "output_type": "stream",
     "text": [
      "eigen_value : [2.70947409e+00 5.32250005e+04]\n",
      "eigen_vector : [[-0.99568799 -0.09276544]\n",
      " [ 0.09276544 -0.99568799]]\n"
     ]
    }
   ],
   "source": [
    "# Eigenvalues And Eigenvectors.\n",
    "\n",
    "eig_val, eig_vec = np.linalg.eig(New_Matrix)\n",
    "print(\"eigen_value :\", eig_val)\n",
    "print(\"eigen_vector :\", eig_vec)"
   ]
  },
  {
   "cell_type": "code",
   "execution_count": 12,
   "id": "51ea5bda",
   "metadata": {},
   "outputs": [
    {
     "data": {
      "text/plain": [
       "array([-0.99568799,  0.09276544])"
      ]
     },
     "execution_count": 12,
     "metadata": {},
     "output_type": "execute_result"
    }
   ],
   "source": [
    "eig_vec[:,0]"
   ]
  },
  {
   "cell_type": "code",
   "execution_count": 13,
   "id": "b0348fec",
   "metadata": {},
   "outputs": [
    {
     "data": {
      "text/plain": [
       "array([-0.09276544, -0.99568799])"
      ]
     },
     "execution_count": 13,
     "metadata": {},
     "output_type": "execute_result"
    }
   ],
   "source": [
    "eig_vec[:,1]"
   ]
  },
  {
   "cell_type": "code",
   "execution_count": 14,
   "id": "244aade9",
   "metadata": {},
   "outputs": [
    {
     "name": "stdout",
     "output_type": "stream",
     "text": [
      "[-0.99568799  0.09276544]\n",
      "[-0.09276544 -0.99568799]\n"
     ]
    }
   ],
   "source": [
    "from numpy.linalg import norm\n",
    "A = New_Matrix@eig_vec[:,0]/norm(New_Matrix@eig_vec[:,0])\n",
    "B = New_Matrix@eig_vec[:,1]/norm(New_Matrix@eig_vec[:,1])\n",
    "print(A)\n",
    "print(B)"
   ]
  },
  {
   "cell_type": "code",
   "execution_count": 15,
   "id": "337788b5",
   "metadata": {},
   "outputs": [
    {
     "name": "stdout",
     "output_type": "stream",
     "text": [
      "[[-0.99568799 -0.09276544]\n",
      " [ 0.09276544 -0.99568799]]\n"
     ]
    }
   ],
   "source": [
    "U = np.array([A,B]).T\n",
    "print(U)"
   ]
  },
  {
   "cell_type": "code",
   "execution_count": 16,
   "id": "a993ef72",
   "metadata": {},
   "outputs": [
    {
     "data": {
      "text/plain": [
       "array([[ 2.70947409e+00, -1.03588399e-09],\n",
       "       [ 9.09494702e-13,  5.32250005e+04]])"
      ]
     },
     "execution_count": 16,
     "metadata": {},
     "output_type": "execute_result"
    }
   ],
   "source": [
    "V = np.array(U.T@New_Matrix@eig_vec)\n",
    "V"
   ]
  },
  {
   "cell_type": "code",
   "execution_count": 17,
   "id": "70ebe50c",
   "metadata": {},
   "outputs": [
    {
     "data": {
      "text/plain": [
       "array([[  460.71,  4915.9 ],\n",
       "       [ 4915.9 , 52767.  ]])"
      ]
     },
     "execution_count": 17,
     "metadata": {},
     "output_type": "execute_result"
    }
   ],
   "source": [
    "U@V@eig_vec.T"
   ]
  },
  {
   "cell_type": "markdown",
   "id": "ed2cef56",
   "metadata": {},
   "source": [
    "## Compute SVD by using function."
   ]
  },
  {
   "cell_type": "code",
   "execution_count": 18,
   "id": "87a7903a",
   "metadata": {},
   "outputs": [
    {
     "name": "stdout",
     "output_type": "stream",
     "text": [
      "(array([[-0.09276544, -0.99568799],\n",
      "       [-0.99568799,  0.09276544]]), array([5.32250005e+04, 2.70947409e+00]), array([[-0.09276544, -0.99568799],\n",
      "       [-0.99568799,  0.09276544]]))\n"
     ]
    }
   ],
   "source": [
    "from numpy.linalg import svd\n",
    "s,v,d = svd(New_Matrix)\n",
    "print(svd(New_Matrix))"
   ]
  },
  {
   "cell_type": "code",
   "execution_count": 19,
   "id": "ec9317de",
   "metadata": {},
   "outputs": [
    {
     "name": "stdout",
     "output_type": "stream",
     "text": [
      "[[-0.09276544 -0.99568799]\n",
      " [-0.99568799  0.09276544]]\n"
     ]
    }
   ],
   "source": [
    "print(s)"
   ]
  },
  {
   "cell_type": "code",
   "execution_count": 20,
   "id": "6942d1e9",
   "metadata": {},
   "outputs": [
    {
     "name": "stdout",
     "output_type": "stream",
     "text": [
      "[5.32250005e+04 2.70947409e+00]\n"
     ]
    }
   ],
   "source": [
    "print(v)"
   ]
  },
  {
   "cell_type": "code",
   "execution_count": 21,
   "id": "2a9688bb",
   "metadata": {},
   "outputs": [
    {
     "name": "stdout",
     "output_type": "stream",
     "text": [
      "[[-0.09276544 -0.99568799]\n",
      " [-0.99568799  0.09276544]]\n"
     ]
    }
   ],
   "source": [
    "print(d)"
   ]
  },
  {
   "cell_type": "markdown",
   "id": "12e0f6f5",
   "metadata": {},
   "source": [
    "## ------------THANK YOU-----------"
   ]
  }
 ],
 "metadata": {
  "kernelspec": {
   "display_name": "Python 3 (ipykernel)",
   "language": "python",
   "name": "python3"
  },
  "language_info": {
   "codemirror_mode": {
    "name": "ipython",
    "version": 3
   },
   "file_extension": ".py",
   "mimetype": "text/x-python",
   "name": "python",
   "nbconvert_exporter": "python",
   "pygments_lexer": "ipython3",
   "version": "3.9.12"
  }
 },
 "nbformat": 4,
 "nbformat_minor": 5
}
