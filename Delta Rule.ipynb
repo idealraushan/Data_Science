{
 "cells": [
  {
   "cell_type": "markdown",
   "id": "ca03450a",
   "metadata": {},
   "source": [
    "##  :- Code to implement the weights using \"Delta Rule\""
   ]
  },
  {
   "cell_type": "code",
   "execution_count": 4,
   "id": "d4769bff",
   "metadata": {},
   "outputs": [],
   "source": [
    "# importing library\n",
    "\n",
    "import numpy as np \n",
    "import pandas as pd"
   ]
  },
  {
   "cell_type": "code",
   "execution_count": 23,
   "id": "a77373b3",
   "metadata": {},
   "outputs": [],
   "source": [
    "# initialize the weight value\n",
    "W = np.array([1,-1,0,0.5]).transpose()\n",
    "\n",
    "Xi = [np.array([1,-2,0,-1]).transpose(),np.array([0,1.5,0.5,-1]).transpose(), np.array([-1,1,0.5,-1]).transpose()]\n",
    "D = [-1,-1,1]\n",
    "b = 1\n",
    "Error = 1\n",
    "iter = 0\n",
    "m= 0\n",
    "n = 0"
   ]
  },
  {
   "cell_type": "code",
   "execution_count": 24,
   "id": "ba7bf8b6",
   "metadata": {},
   "outputs": [
    {
     "name": "stdout",
     "output_type": "stream",
     "text": [
      "-1.8\n",
      "-0.4\n",
      "1.8\n",
      "-1.3\n",
      "-1.1\n",
      "1.7\n",
      "-0.1\n",
      "-0.8\n",
      "1.5\n",
      "-0.1\n",
      "-0.9\n",
      "1.2\n",
      "-0.1\n",
      "-0.9\n",
      "0.9\n",
      "-0.1\n",
      "-0.8\n",
      "0.7\n",
      "-0.1\n",
      "-0.6\n",
      "0.5\n",
      "-0.1\n",
      "-0.5\n",
      "0.5\n",
      "-0.1\n",
      "-0.4\n",
      "0.4\n",
      "-0.1\n",
      "-0.4\n",
      "0.4\n",
      "-0.1\n",
      "-0.4\n",
      "0.3\n",
      "-0.1\n",
      "-0.3\n",
      "0.3\n",
      "-0.1\n",
      "-0.3\n",
      "0.3\n",
      "-0.1\n",
      "-0.3\n",
      "0.3\n",
      "-0.1\n",
      "-0.3\n",
      "0.3\n",
      "-0.1\n",
      "-0.3\n",
      "0.3\n",
      "-0.1\n",
      "-0.3\n",
      "0.3\n",
      "-0.1\n",
      "-0.3\n",
      "0.2\n",
      "-0.1\n",
      "-0.2\n",
      "0.2\n",
      "-0.1\n",
      "-0.2\n",
      "0.2\n",
      "-0.1\n",
      "-0.2\n",
      "0.2\n",
      "-0.1\n",
      "-0.2\n",
      "0.2\n",
      "-0.1\n",
      "-0.2\n",
      "0.2\n",
      "-0.1\n",
      "-0.2\n",
      "0.2\n",
      "-0.0\n"
     ]
    }
   ],
   "source": [
    "while(Error != -0.0):\n",
    "        net = sum(W.transpose()*Xi[m])\n",
    "        o = (2/(1 + np.exp(-1*net)))-1\n",
    "        o_ = ( 0.5 )*(1- (o**2) )\n",
    "        error = D[m] - o\n",
    "        print(round(error,1))\n",
    "        Error = round(error,1)\n",
    "        dw = b * error * o_ * Xi[m]\n",
    "        W = W + dw\n",
    "        iter += 1\n",
    "        m+=1\n",
    "        if m > 2:\n",
    "            m = 0\n",
    "            n += 1\n",
    "        if Error == -0.0:\n",
    "            break"
   ]
  },
  {
   "cell_type": "markdown",
   "id": "d7b24880",
   "metadata": {},
   "source": [
    "## Final output of weights."
   ]
  },
  {
   "cell_type": "code",
   "execution_count": 25,
   "id": "1065671f",
   "metadata": {},
   "outputs": [
    {
     "name": "stdout",
     "output_type": "stream",
     "text": [
      "Final Weight Matrix : [-4.07699893 -0.75259033  0.15522287  1.11765047]\n",
      "Iteration : 73\n"
     ]
    }
   ],
   "source": [
    "print(\"Final Weight Matrix : {}\".format(W))\n",
    "print(\"Iteration : {}\".format(iter))"
   ]
  }
 ],
 "metadata": {
  "kernelspec": {
   "display_name": "Python 3 (ipykernel)",
   "language": "python",
   "name": "python3"
  },
  "language_info": {
   "codemirror_mode": {
    "name": "ipython",
    "version": 3
   },
   "file_extension": ".py",
   "mimetype": "text/x-python",
   "name": "python",
   "nbconvert_exporter": "python",
   "pygments_lexer": "ipython3",
   "version": "3.9.12"
  }
 },
 "nbformat": 4,
 "nbformat_minor": 5
}
