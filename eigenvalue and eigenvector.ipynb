{
 "cells": [
  {
   "cell_type": "markdown",
   "id": "4b094b11",
   "metadata": {},
   "source": [
    "# Assignment :- 1"
   ]
  },
  {
   "cell_type": "markdown",
   "id": "18801f6d",
   "metadata": {},
   "source": [
    "##  :- Program to compute the eigenvalue and eigenvector."
   ]
  },
  {
   "cell_type": "code",
   "execution_count": 1,
   "id": "eaa20a53",
   "metadata": {},
   "outputs": [],
   "source": [
    "# import libraries\n",
    "\n",
    "import numpy as np\n",
    "import pandas as pd"
   ]
  },
  {
   "cell_type": "code",
   "execution_count": 2,
   "id": "2b656b4e",
   "metadata": {},
   "outputs": [
    {
     "name": "stdout",
     "output_type": "stream",
     "text": [
      "    Hours  Scores\n",
      "0     2.5      21\n",
      "1     5.1      47\n",
      "2     3.2      27\n",
      "3     8.5      75\n",
      "4     3.5      30\n",
      "5     1.5      20\n",
      "6     9.2      88\n",
      "7     5.5      60\n",
      "8     8.3      81\n",
      "9     2.7      25\n",
      "10    7.7      85\n",
      "11    5.9      62\n",
      "12    4.5      41\n",
      "13    3.3      42\n",
      "14    1.1      17\n",
      "15    8.9      95\n",
      "16    2.5      30\n",
      "17    1.9      24\n",
      "18    6.1      67\n",
      "19    7.4      69\n",
      "20    2.7      30\n",
      "21    4.8      54\n",
      "22    3.8      35\n",
      "23    6.9      76\n",
      "24    7.8      86\n"
     ]
    }
   ],
   "source": [
    "# import Dataset and visualize the Data\n",
    "\n",
    "df = pd.read_csv(r\"C:\\Users\\hp\\Desktop\\kaggle\\student_scores.csv\")\n",
    "print(df)"
   ]
  },
  {
   "cell_type": "code",
   "execution_count": 3,
   "id": "479adc98",
   "metadata": {},
   "outputs": [
    {
     "data": {
      "text/plain": [
       "(25, 2)"
      ]
     },
     "execution_count": 3,
     "metadata": {},
     "output_type": "execute_result"
    }
   ],
   "source": [
    "df.shape"
   ]
  },
  {
   "cell_type": "code",
   "execution_count": 4,
   "id": "c8c17cf3",
   "metadata": {},
   "outputs": [
    {
     "name": "stdout",
     "output_type": "stream",
     "text": [
      "[[ 2.5 21. ]\n",
      " [ 5.1 47. ]\n",
      " [ 3.2 27. ]\n",
      " [ 8.5 75. ]\n",
      " [ 3.5 30. ]\n",
      " [ 1.5 20. ]\n",
      " [ 9.2 88. ]\n",
      " [ 5.5 60. ]\n",
      " [ 8.3 81. ]\n",
      " [ 2.7 25. ]\n",
      " [ 7.7 85. ]\n",
      " [ 5.9 62. ]\n",
      " [ 4.5 41. ]\n",
      " [ 3.3 42. ]\n",
      " [ 1.1 17. ]\n",
      " [ 8.9 95. ]\n",
      " [ 2.5 30. ]\n",
      " [ 1.9 24. ]\n",
      " [ 6.1 67. ]\n",
      " [ 7.4 69. ]\n",
      " [ 2.7 30. ]\n",
      " [ 4.8 54. ]\n",
      " [ 3.8 35. ]\n",
      " [ 6.9 76. ]\n",
      " [ 7.8 86. ]]\n"
     ]
    }
   ],
   "source": [
    "# convert the Dataset into Matrix form\n",
    "\n",
    "a = np.array(df)\n",
    "print(a)"
   ]
  },
  {
   "cell_type": "code",
   "execution_count": 5,
   "id": "758be43f",
   "metadata": {},
   "outputs": [
    {
     "name": "stdout",
     "output_type": "stream",
     "text": [
      "[[ 2.5  5.1  3.2  8.5  3.5  1.5  9.2  5.5  8.3  2.7  7.7  5.9  4.5  3.3\n",
      "   1.1  8.9  2.5  1.9  6.1  7.4  2.7  4.8  3.8  6.9  7.8]\n",
      " [21.  47.  27.  75.  30.  20.  88.  60.  81.  25.  85.  62.  41.  42.\n",
      "  17.  95.  30.  24.  67.  69.  30.  54.  35.  76.  86. ]]\n"
     ]
    }
   ],
   "source": [
    "# Transpose of Matrix \"a\"\n",
    "\n",
    "b = np.transpose(a)\n",
    "print(b)"
   ]
  },
  {
   "cell_type": "code",
   "execution_count": 6,
   "id": "6e4706c9",
   "metadata": {},
   "outputs": [
    {
     "name": "stdout",
     "output_type": "stream",
     "text": [
      "[[  781.03  7946.4 ]\n",
      " [ 7946.4  81601.  ]]\n"
     ]
    }
   ],
   "source": [
    "# Reduce the shape of Matrix (Square Matrix)\n",
    "\n",
    "c = b@a\n",
    "print(c)"
   ]
  },
  {
   "cell_type": "markdown",
   "id": "f1f5c406",
   "metadata": {},
   "source": [
    "### Eigenvalues And Eigenvectors are:-"
   ]
  },
  {
   "cell_type": "code",
   "execution_count": 25,
   "id": "5efc5ac8",
   "metadata": {},
   "outputs": [
    {
     "name": "stdout",
     "output_type": "stream",
     "text": [
      "Eigenvalues are : [ 8022.46425578 82374.89729223]\n",
      "Eigenvalue : 82374.89729222962\n",
      "Eigenvector : [0.09738967 1.        ]\n"
     ]
    }
   ],
   "source": [
    "x=np.ones(len(c))\n",
    "for i in range(10):\n",
    "    ax=c@x\n",
    "    eig=max(ax)\n",
    "    x=ax/eig\n",
    "print(\"Eigenvalues are :\", ax)\n",
    "print(\"Eigenvalue :\", eig)\n",
    "print(\"Eigenvector :\", x)"
   ]
  },
  {
   "cell_type": "code",
   "execution_count": 19,
   "id": "52f91f7b",
   "metadata": {},
   "outputs": [
    {
     "name": "stdout",
     "output_type": "stream",
     "text": [
      "[7.13270777e+00 8.23748973e+04]\n",
      "[[-0.9952911  -0.09693107]\n",
      " [ 0.09693107 -0.9952911 ]]\n"
     ]
    }
   ],
   "source": [
    "u ,v = np.linalg.eig(c)\n",
    "print(u)\n",
    "print(v)"
   ]
  },
  {
   "cell_type": "markdown",
   "id": "c5a352bd",
   "metadata": {},
   "source": [
    "# --------------THANK YOU-------------"
   ]
  }
 ],
 "metadata": {
  "kernelspec": {
   "display_name": "Python 3 (ipykernel)",
   "language": "python",
   "name": "python3"
  },
  "language_info": {
   "codemirror_mode": {
    "name": "ipython",
    "version": 3
   },
   "file_extension": ".py",
   "mimetype": "text/x-python",
   "name": "python",
   "nbconvert_exporter": "python",
   "pygments_lexer": "ipython3",
   "version": "3.9.12"
  }
 },
 "nbformat": 4,
 "nbformat_minor": 5
}
